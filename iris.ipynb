{
 "cells": [
  {
   "cell_type": "code",
   "execution_count": 1,
   "metadata": {},
   "outputs": [
    {
     "name": "stderr",
     "output_type": "stream",
     "text": [
      "Registered model 'my_iris_model' already exists. Creating a new version of this model...\n",
      "2021/05/23 16:28:02 INFO mlflow.tracking._model_registry.client: Waiting up to 300 seconds for model version to finish creation.                     Model name: my_iris_model, version 8\n"
     ]
    },
    {
     "name": "stdout",
     "output_type": "stream",
     "text": [
      "  mse: 0.100000\n",
      "./artifacts/0/bb4a21e2a1fe440fbbcba241ede4cef1/artifacts\n"
     ]
    },
    {
     "name": "stderr",
     "output_type": "stream",
     "text": [
      "Created version '8' of model 'my_iris_model'.\n"
     ]
    }
   ],
   "source": [
    "import mlflow\n",
    "import mlflow.sklearn\n",
    "from sklearn.ensemble import RandomForestRegressor\n",
    "from sklearn.metrics import mean_squared_error\n",
    "from sklearn.model_selection import train_test_split\n",
    "from sklearn import datasets\n",
    "\n",
    "# uncomment portion below if using a remote mlflow instance\n",
    "# mlflow.set_tracking_uri(\"http://your-server:5000\")\n",
    "iris = datasets.load_iris()\n",
    "x = iris.data[:, 2:]\n",
    "y = iris.target\n",
    "X_train, X_test, y_train, y_test = train_test_split(x, y, test_size=0.2, random_state=7)\n",
    "\n",
    "mlflow.set_tracking_uri(\"http://127.0.0.1:5000\")\n",
    "    \n",
    "# add parameters for tuning\n",
    "num_estimators = 3\n",
    "mlflow.log_param(\"num_estimators\",num_estimators)\n",
    "\n",
    "# train the model\n",
    "rf = RandomForestRegressor(n_estimators=num_estimators)\n",
    "rf.fit(X_train, y_train)\n",
    "predictions = rf.predict(X_test)\n",
    "\n",
    "# Model Registry\n",
    "mlflow.sklearn.log_model(\n",
    "    sk_model=rf,\n",
    "    artifact_path=\"sklearn-model\",\n",
    "    registered_model_name=\"my_iris_model\"\n",
    ")\n",
    "\n",
    "# log model performance \n",
    "mse = mean_squared_error(y_test, predictions)\n",
    "mlflow.log_metric(\"mse\", mse)\n",
    "print(\"  mse: %f\" % mse)\n",
    "\n",
    "mlflow.end_run()\n",
    "print(mlflow.get_artifact_uri())"
   ]
  },
  {
   "cell_type": "code",
   "execution_count": null,
   "metadata": {},
   "outputs": [],
   "source": []
  }
 ],
 "metadata": {
  "kernelspec": {
   "display_name": "Python 3",
   "language": "python",
   "name": "python3"
  },
  "language_info": {
   "codemirror_mode": {
    "name": "ipython",
    "version": 3
   },
   "file_extension": ".py",
   "mimetype": "text/x-python",
   "name": "python",
   "nbconvert_exporter": "python",
   "pygments_lexer": "ipython3",
   "version": "3.8.6rc1"
  }
 },
 "nbformat": 4,
 "nbformat_minor": 4
}
